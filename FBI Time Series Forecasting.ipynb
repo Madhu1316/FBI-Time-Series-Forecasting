{
  "nbformat": 4,
  "nbformat_minor": 0,
  "metadata": {
    "colab": {
      "private_outputs": true,
      "provenance": [],
      "collapsed_sections": [
        "vncDsAP0Gaoa",
        "FJNUwmbgGyua",
        "w6K7xa23Elo4",
        "yQaldy8SH6Dl",
        "PH-0ReGfmX4f",
        "mDgbUHAGgjLW",
        "O_i_v8NEhb9l",
        "HhfV-JJviCcP",
        "Y3lxredqlCYt",
        "3RnN4peoiCZX",
        "x71ZqKXriCWQ",
        "7hBIi_osiCS2",
        "JlHwYmJAmNHm",
        "35m5QtbWiB9F",
        "PoPl-ycgm1ru",
        "H0kj-8xxnORC",
        "nA9Y7ga8ng1Z",
        "PBTbrJXOngz2",
        "u3PMJOP6ngxN",
        "dauF4eBmngu3",
        "bKJF3rekwFvQ",
        "MSa1f5Uengrz",
        "GF8Ens_Soomf",
        "0wOQAZs5pc--",
        "K5QZ13OEpz2H",
        "lQ7QKXXCp7Bj",
        "448CDAPjqfQr",
        "KSlN3yHqYklG",
        "t6dVpIINYklI",
        "ijmpgYnKYklI",
        "-JiQyfWJYklI",
        "EM7whBJCYoAo",
        "fge-S5ZAYoAp",
        "85gYPyotYoAp",
        "RoGjAbkUYoAp",
        "4Of9eVA-YrdM",
        "iky9q4vBYrdO",
        "F6T5p64dYrdO",
        "y-Ehk30pYrdP",
        "bamQiAODYuh1",
        "QHF8YVU7Yuh3",
        "GwzvFGzlYuh3",
        "qYpmQ266Yuh3",
        "OH-pJp9IphqM",
        "bbFf2-_FphqN",
        "_ouA3fa0phqN",
        "Seke61FWphqN",
        "PIIx-8_IphqN",
        "t27r6nlMphqO",
        "r2jJGEOYphqO",
        "b0JNsNcRphqO",
        "BZR9WyysphqO",
        "jj7wYXLtphqO",
        "eZrbJ2SmphqO",
        "rFu4xreNphqO",
        "YJ55k-q6phqO",
        "gCFgpxoyphqP",
        "OVtJsKN_phqQ",
        "lssrdh5qphqQ",
        "U2RJ9gkRphqQ",
        "1M8mcRywphqQ",
        "tgIPom80phqQ",
        "JMzcOPDDphqR",
        "x-EpHcCOp1ci",
        "X_VqEhTip1ck",
        "8zGJKyg5p1ck",
        "PVzmfK_Ep1ck",
        "n3dbpmDWp1ck",
        "ylSl6qgtp1ck",
        "ZWILFDl5p1ck",
        "M7G43BXep1ck",
        "Ag9LCva-p1cl",
        "E6MkPsBcp1cl",
        "2cELzS2fp1cl",
        "3MPXvC8up1cl",
        "NC_X3p0fY2L0",
        "UV0SzAkaZNRQ",
        "YPEH6qLeZNRQ",
        "q29F0dvdveiT",
        "EXh0U9oCveiU",
        "22aHeOlLveiV",
        "JcMwzZxoAimU",
        "8G2x9gOozGDZ",
        "gCX9965dhzqZ",
        "gIfDvo9L0UH2"
      ]
    },
    "kernelspec": {
      "name": "python3",
      "display_name": "Python 3"
    },
    "language_info": {
      "name": "python"
    }
  },
  "cells": [
    {
      "cell_type": "markdown",
      "source": [
        "# **Project Name**    - FBI Time Series Forecasting\n",
        "\n"
      ],
      "metadata": {
        "id": "vncDsAP0Gaoa"
      }
    },
    {
      "cell_type": "markdown",
      "source": [
        "##### **Project Type**    - EDA\n",
        "##### **Contribution**    - Individual\n",
        "##### **Name              -** Madhu Y"
      ],
      "metadata": {
        "id": "beRrZCGUAJYm"
      }
    },
    {
      "cell_type": "markdown",
      "source": [
        "# **Project Summary -**"
      ],
      "metadata": {
        "id": "FJNUwmbgGyua"
      }
    },
    {
      "cell_type": "markdown",
      "source": [
        "This project, titled FBI Crime Incident Time Series Forecasting, is a strategic data analytics initiative designed to predict crime patterns and enhance public safety by anticipating crime trends and facilitating strategic resource allocation.\n",
        "\n",
        "The core focus is to develop a robust predictive model that estimates the number of crime incidents on a monthly basis. The model leverages detailed, granular data that captures both spatial and temporal patterns. This data includes crime types, geographical coordinates (latitude and longitude), neighborhood details, and time stamps down to the day and hour level.\n",
        "\n",
        "The project employs advanced machine learning and time series techniques, utilizing libraries such as Pandas, NumPy, Scikit-Learn, Statsmodels (for ARIMA/SARIMA), and XGBoost.\n",
        "\n",
        "The final output provides actionable insights for multiple stakeholders:\n",
        "\n",
        "Law Enforcement: Can optimize patrol schedules and strategically allocate personnel and resources to high-risk areas.\n",
        "\n",
        "Urban Planners/Policy Makers: Can guide the placement of public safety measures, such as street lighting and surveillance cameras, and inform public awareness campaigns and community policing initiatives."
      ],
      "metadata": {
        "id": "F6v_1wHtG2nS"
      }
    },
    {
      "cell_type": "markdown",
      "source": [
        "# **Problem Statement**\n"
      ],
      "metadata": {
        "id": "yQaldy8SH6Dl"
      }
    },
    {
      "cell_type": "markdown",
      "source": [
        "Develop a robust, data-driven predictive model to accurately forecast the number of crime incidents on a monthly basis, segmented by crime type. The model must leverage granular spatial (location) and temporal (time stamp) data to identify when and where crimes are most likely to occur, providing law enforcement with the advanced tools necessary to allocate resources strategically and implement proactive measures to prevent criminal activities."
      ],
      "metadata": {
        "id": "DpeJGUA3kjGy"
      }
    },
    {
      "cell_type": "markdown",
      "source": [
        "#### **Define Your Business Objective?**"
      ],
      "metadata": {
        "id": "PH-0ReGfmX4f"
      }
    },
    {
      "cell_type": "markdown",
      "source": [
        "The central business objective is to deliver actionable predictive intelligence to stakeholders (law enforcement, urban planners, policy makers) to achieve two primary outcomes:\n",
        "\n",
        "Optimization of Resources: To enable law enforcement to optimize patrol schedules and allocate personnel more efficiently, focusing resources on high-risk times and locations.\n",
        "\n",
        "Enhancement of Public Safety: To guide the placement of public safety measures, such as street lighting and surveillance cameras, and inform community-based initiatives to create safer and more resilient communities."
      ],
      "metadata": {
        "id": "PhDvGCAqmjP1"
      }
    },
    {
      "cell_type": "markdown",
      "source": [
        "# ***Let's Begin !***"
      ],
      "metadata": {
        "id": "O_i_v8NEhb9l"
      }
    },
    {
      "cell_type": "markdown",
      "source": [
        "## ***1. Know Your Data***"
      ],
      "metadata": {
        "id": "HhfV-JJviCcP"
      }
    },
    {
      "cell_type": "markdown",
      "source": [
        "### Import Libraries"
      ],
      "metadata": {
        "id": "Y3lxredqlCYt"
      }
    },
    {
      "cell_type": "code",
      "source": [
        "import pandas as pd\n",
        "import numpy as np\n",
        "import matplotlib.pyplot as plt\n",
        "import seaborn as sns"
      ],
      "metadata": {
        "id": "g6aL2pQ6MdNP"
      },
      "execution_count": null,
      "outputs": []
    },
    {
      "cell_type": "markdown",
      "source": [
        "### Dataset Loading"
      ],
      "metadata": {
        "id": "3RnN4peoiCZX"
      }
    },
    {
      "cell_type": "code",
      "source": [
        "df = pd.read_csv('/content/Test (2).csv')"
      ],
      "metadata": {
        "id": "4CkvbW_SlZ_R"
      },
      "execution_count": null,
      "outputs": []
    },
    {
      "cell_type": "markdown",
      "source": [
        "### Dataset First View"
      ],
      "metadata": {
        "id": "x71ZqKXriCWQ"
      }
    },
    {
      "cell_type": "code",
      "source": [
        "display(df.head())"
      ],
      "metadata": {
        "id": "LWNFOSvLl09H"
      },
      "execution_count": null,
      "outputs": []
    },
    {
      "cell_type": "markdown",
      "source": [
        "### Dataset Rows & Columns count"
      ],
      "metadata": {
        "id": "7hBIi_osiCS2"
      }
    },
    {
      "cell_type": "code",
      "source": [
        "# Dataset Rows & Columns count\n",
        "\n",
        "print(df.shape)"
      ],
      "metadata": {
        "id": "Kllu7SJgmLij"
      },
      "execution_count": null,
      "outputs": []
    },
    {
      "cell_type": "markdown",
      "source": [
        "### Dataset Information"
      ],
      "metadata": {
        "id": "JlHwYmJAmNHm"
      }
    },
    {
      "cell_type": "code",
      "source": [
        "df.info()"
      ],
      "metadata": {
        "id": "e9hRXRi6meOf"
      },
      "execution_count": null,
      "outputs": []
    },
    {
      "cell_type": "markdown",
      "source": [
        "#### Duplicate Values"
      ],
      "metadata": {
        "id": "35m5QtbWiB9F"
      }
    },
    {
      "cell_type": "code",
      "source": [
        "# Duplicate Values\n",
        "\n",
        "print(df.duplicated().sum())"
      ],
      "metadata": {
        "id": "1sLdpKYkmox0"
      },
      "execution_count": null,
      "outputs": []
    },
    {
      "cell_type": "markdown",
      "source": [
        "#### Missing Values/Null Values"
      ],
      "metadata": {
        "id": "PoPl-ycgm1ru"
      }
    },
    {
      "cell_type": "code",
      "source": [
        "# Missing Values/Null Values\n",
        "print(df.isnull().sum())"
      ],
      "metadata": {
        "id": "r7iHFLXrOIqz"
      },
      "execution_count": null,
      "outputs": []
    },
    {
      "cell_type": "code",
      "source": [
        "# Visualizing the missing values\n",
        "plt.figure(figsize=(10, 6))\n",
        "sns.heatmap(df.isnull(), cbar=False, cmap='viridis')\n",
        "plt.title('Missing Values Heatmap')\n",
        "plt.show()"
      ],
      "metadata": {
        "id": "ARqLdwB9OVIt"
      },
      "execution_count": null,
      "outputs": []
    },
    {
      "cell_type": "markdown",
      "source": [
        "### What did you know about your dataset?"
      ],
      "metadata": {
        "id": "H0kj-8xxnORC"
      }
    },
    {
      "cell_type": "markdown",
      "source": [
        "The dataset is highly granular, containing detailed information on individual crime occurrences for a Time Series Forecasting project."
      ],
      "metadata": {
        "id": "gfoNAAC-nUe_"
      }
    },
    {
      "cell_type": "markdown",
      "source": [
        "## ***2. Understanding Your Variables***"
      ],
      "metadata": {
        "id": "nA9Y7ga8ng1Z"
      }
    },
    {
      "cell_type": "code",
      "source": [
        "# Dataset Columns\n",
        "print(df.columns)"
      ],
      "metadata": {
        "id": "uKVWhLHEO7H-"
      },
      "execution_count": null,
      "outputs": []
    },
    {
      "cell_type": "code",
      "source": [
        "# Dataset Describe"
      ],
      "metadata": {
        "id": "DnOaZdaE5Q5t"
      },
      "execution_count": null,
      "outputs": []
    },
    {
      "cell_type": "markdown",
      "source": [
        "### Variables Description"
      ],
      "metadata": {
        "id": "PBTbrJXOngz2"
      }
    },
    {
      "cell_type": "markdown",
      "source": [
        "YEAR: The year of the incident. This is an integer variable.\n",
        "MONTH: The month of the incident. This is an integer variable.\n",
        "TYPE: The type of incident. This is a categorical variable (object type).\n",
        "Incident_Counts: The count of incidents. This variable appears to be entirely missing (NaN) and is of float type"
      ],
      "metadata": {
        "id": "aJV4KIxSnxay"
      }
    },
    {
      "cell_type": "markdown",
      "source": [
        "### Check Unique Values for each variable."
      ],
      "metadata": {
        "id": "u3PMJOP6ngxN"
      }
    },
    {
      "cell_type": "code",
      "source": [
        "# Check Unique Values for each variable.\n",
        "for col in df.columns:\n",
        "    print(f\"Column: {col}\")\n",
        "    unique_values = df[col].unique()\n",
        "    print(f\"Number of unique values: {len(unique_values)}\")\n",
        "    if len(unique_values) < 20:\n",
        "        print(f\"Unique values: {unique_values}\")\n",
        "    print(\"-\" * 30)"
      ],
      "metadata": {
        "id": "pUsvUPg4PaCz"
      },
      "execution_count": null,
      "outputs": []
    },
    {
      "cell_type": "markdown",
      "source": [
        "## 3. ***Data Wrangling***"
      ],
      "metadata": {
        "id": "dauF4eBmngu3"
      }
    },
    {
      "cell_type": "markdown",
      "source": [
        "### Data Wrangling Code"
      ],
      "metadata": {
        "id": "bKJF3rekwFvQ"
      }
    },
    {
      "cell_type": "code",
      "source": [
        "# Write your code to make your dataset analysis ready.\n",
        "\n",
        "# Group by YEAR, MONTH, and TYPE and count incidents\n",
        "df_analysis = df.groupby(['YEAR', 'MONTH', 'TYPE']).size().reset_index(name='Incident_Counts')\n",
        "\n",
        "# Display the first few rows of the new dataframe\n",
        "display(df_analysis.head())\n",
        "\n",
        "# Display the info of the new dataframe\n",
        "df_analysis.info()"
      ],
      "metadata": {
        "id": "SGJ-Ri1jPkm2"
      },
      "execution_count": null,
      "outputs": []
    },
    {
      "cell_type": "markdown",
      "source": [
        "### What all manipulations have you done and insights you found?"
      ],
      "metadata": {
        "id": "MSa1f5Uengrz"
      }
    },
    {
      "cell_type": "markdown",
      "source": [
        "Grouped the data: I grouped the original DataFrame df by the 'YEAR', 'MONTH', and 'TYPE' columns.\n",
        "Counted incidents: For each unique combination of year, month, and incident type, I counted the number of occurrences. This count represents the 'Incident_Counts' for that specific type of incident in that month and year.\n",
        "Created a new DataFrame: The result of this grouping and counting was stored in a new DataFrame called df_analysis. The original 'Incident_Counts' column, which was entirely missing, has been effectively replaced by these calculated counts.\n",
        "Insight: The key insight from this step is that the incident counts were not explicitly provided but could be derived from the granularity of the existing data. By grouping and counting, we have created a meaningful time series dataset where each row represents a specific type of incident in a given month and year with its corresponding count. This allows us to proceed with time series analysis and visualization based on these derived incident counts."
      ],
      "metadata": {
        "id": "LbyXE7I1olp8"
      }
    },
    {
      "cell_type": "markdown",
      "source": [
        "## ***4. Data Vizualization, Storytelling & Experimenting with charts : Understand the relationships between variables***"
      ],
      "metadata": {
        "id": "GF8Ens_Soomf"
      }
    },
    {
      "cell_type": "markdown",
      "source": [
        "#### Chart - 1"
      ],
      "metadata": {
        "id": "0wOQAZs5pc--"
      }
    },
    {
      "cell_type": "code",
      "source": [
        "# Chart - 1 visualization code\n",
        "\n",
        "# Create a datetime column for easier plotting\n",
        "df_analysis['Date'] = pd.to_datetime(df_analysis[['YEAR', 'MONTH']].assign(DAY=1))\n",
        "\n",
        "# Group by date and sum the incident counts\n",
        "monthly_counts = df_analysis.groupby('Date')['Incident_Counts'].sum().reset_index()\n",
        "\n",
        "# Plot the total incidents over time\n",
        "plt.figure(figsize=(12, 6))\n",
        "sns.lineplot(data=monthly_counts, x='Date', y='Incident_Counts')\n",
        "plt.title('Total FBI Incidents Over Time (Monthly)')\n",
        "plt.xlabel('Date')\n",
        "plt.ylabel('Number of Incidents')\n",
        "plt.xticks(rotation=45)\n",
        "plt.tight_layout()\n",
        "plt.show()"
      ],
      "metadata": {
        "id": "RF5mA9T1QG1C"
      },
      "execution_count": null,
      "outputs": []
    },
    {
      "cell_type": "markdown",
      "source": [
        "##### 1. Why did you pick the specific chart?"
      ],
      "metadata": {
        "id": "K5QZ13OEpz2H"
      }
    },
    {
      "cell_type": "markdown",
      "source": [
        "I picked the line plot because it is the most appropriate chart for visualizing the trend of a variable (total incident counts) over a continuous time period (months). It clearly shows how the number of incidents changes from one month to the next, making trends and patterns easily discernible."
      ],
      "metadata": {
        "id": "XESiWehPqBRc"
      }
    },
    {
      "cell_type": "markdown",
      "source": [
        "##### 2. What is/are the insight(s) found from the chart?"
      ],
      "metadata": {
        "id": "lQ7QKXXCp7Bj"
      }
    },
    {
      "cell_type": "markdown",
      "source": [
        "Based on the line plot of total FBI incidents over time, the primary insight is that there is no significant variation in the total number of incidents per month across the observed period (2012-2013). The line appears relatively flat, suggesting a stable trend in the overall number of reported incidents each month."
      ],
      "metadata": {
        "id": "C_j1G7yiqdRP"
      }
    },
    {
      "cell_type": "markdown",
      "source": [
        "##### 3. Will the gained insights help creating a positive business impact?\n",
        "Are there any insights that lead to negative growth? Justify with specific reason."
      ],
      "metadata": {
        "id": "448CDAPjqfQr"
      }
    },
    {
      "cell_type": "markdown",
      "source": [
        "The stable trend provides a crucial baseline. Its positive or negative impact depends on the specific business objectives and how this stability compares to desired outcomes or the effectiveness of implemented strategies."
      ],
      "metadata": {
        "id": "3cspy4FjqxJW"
      }
    },
    {
      "cell_type": "markdown",
      "source": [
        "#### Chart - 2"
      ],
      "metadata": {
        "id": "KSlN3yHqYklG"
      }
    },
    {
      "cell_type": "code",
      "source": [
        "# Chart - 2 visualization code\n",
        "\n",
        "# Plot the trend for each incident type\n",
        "plt.figure(figsize=(14, 7))\n",
        "sns.lineplot(data=df_analysis, x='Date', y='Incident_Counts', hue='TYPE')\n",
        "plt.title('FBI Incident Counts Over Time by Type (Monthly)')\n",
        "plt.xlabel('Date')\n",
        "plt.ylabel('Number of Incidents')\n",
        "plt.xticks(rotation=45)\n",
        "plt.legend(title='Incident Type', bbox_to_anchor=(1.05, 1), loc='upper left')\n",
        "plt.tight_layout()\n",
        "plt.show()"
      ],
      "metadata": {
        "id": "KvgkBE6IQvbl"
      },
      "execution_count": null,
      "outputs": []
    },
    {
      "cell_type": "markdown",
      "source": [
        "##### 1. Why did you pick the specific chart?"
      ],
      "metadata": {
        "id": "t6dVpIINYklI"
      }
    },
    {
      "cell_type": "markdown",
      "source": [
        "I chose this multi-line plot to compare the time series trends of different incident types. By having a separate line for each TYPE, we can easily see if certain types of incidents have different monthly patterns or if they follow the overall stable trend observed in the first chart. It allows for a direct visual comparison of how the frequency of each incident type changes over time relative to the others."
      ],
      "metadata": {
        "id": "5aaW0BYyYklI"
      }
    },
    {
      "cell_type": "markdown",
      "source": [
        "##### 2. What is/are the insight(s) found from the chart?"
      ],
      "metadata": {
        "id": "ijmpgYnKYklI"
      }
    },
    {
      "cell_type": "markdown",
      "source": [
        "Based on the multi-line plot showing incident counts by type over time, the main insight is that while the total number of incidents is stable, the distribution of incident types varies from month to month. Some incident types show slight fluctuations, increasing or decreasing in certain months, even though the overall sum remains relatively constant. This suggests that while the total workload might be consistent, the nature of the incidents the FBI deals with changes over time."
      ],
      "metadata": {
        "id": "PSx9atu2YklI"
      }
    },
    {
      "cell_type": "markdown",
      "source": [
        "##### 3. Will the gained insights help creating a positive business impact?\n",
        "Are there any insights that lead to negative growth? Justify with specific reason."
      ],
      "metadata": {
        "id": "-JiQyfWJYklI"
      }
    },
    {
      "cell_type": "markdown",
      "source": [
        "These insights suggest that while the overall workload is stable, a deeper look into the specific types of incidents and their temporal patterns is necessary for effective resource allocation and targeted crime prevention strategies."
      ],
      "metadata": {
        "id": "BcBbebzrYklV"
      }
    },
    {
      "cell_type": "markdown",
      "source": [
        "#### Chart - 3"
      ],
      "metadata": {
        "id": "EM7whBJCYoAo"
      }
    },
    {
      "cell_type": "code",
      "source": [
        "# Chart - 3 visualization code\n",
        "\n",
        "# Group by TYPE and sum the incident counts\n",
        "type_counts = df_analysis.groupby('TYPE')['Incident_Counts'].sum().reset_index()\n",
        "\n",
        "# Sort the types by total count\n",
        "type_counts = type_counts.sort_values('Incident_Counts', ascending=False)\n",
        "\n",
        "# Create a bar plot of incident counts by type\n",
        "plt.figure(figsize=(12, 7))\n",
        "sns.barplot(data=type_counts, x='Incident_Counts', y='TYPE', palette='viridis')\n",
        "plt.title('Total FBI Incident Counts by Type (Overall Period)')\n",
        "plt.xlabel('Total Number of Incidents')\n",
        "plt.ylabel('Incident Type')\n",
        "plt.tight_layout()\n",
        "plt.show()"
      ],
      "metadata": {
        "id": "-E9meT3yRb8c"
      },
      "execution_count": null,
      "outputs": []
    },
    {
      "cell_type": "markdown",
      "source": [
        "##### 1. Why did you pick the specific chart?"
      ],
      "metadata": {
        "id": "fge-S5ZAYoAp"
      }
    },
    {
      "cell_type": "markdown",
      "source": [
        "I chose the bar plot to visualize the total incident counts by type because it's an effective way to compare the magnitudes of different categories. The length of each bar clearly represents the total number of incidents for each specific type over the entire period, making it easy to identify which incident types are the most and least frequent."
      ],
      "metadata": {
        "id": "5dBItgRVYoAp"
      }
    },
    {
      "cell_type": "markdown",
      "source": [
        "##### 2. What is/are the insight(s) found from the chart?"
      ],
      "metadata": {
        "id": "85gYPyotYoAp"
      }
    },
    {
      "cell_type": "markdown",
      "source": [
        "Based on the bar plot showing the total FBI incident counts by type, the main insight is the clear disparity in the frequency of different incident types. Some types, like \"Other Theft\" and \"Theft from Vehicle\", have significantly higher total counts over the period compared to types like \"Theft of Bicycle\" or \"Break and Enter Commercial\". This highlights that certain types of incidents are much more prevalent than others."
      ],
      "metadata": {
        "id": "4jstXR6OYoAp"
      }
    },
    {
      "cell_type": "markdown",
      "source": [
        "##### 3. Will the gained insights help creating a positive business impact?\n",
        "Are there any insights that lead to negative growth? Justify with specific reason."
      ],
      "metadata": {
        "id": "RoGjAbkUYoAp"
      }
    },
    {
      "cell_type": "markdown",
      "source": [
        "These insights collectively suggest that while the overall incident volume is consistent, focusing on the temporal variations and the most frequent types of incidents is crucial for optimizing resource allocation and developing effective, targeted crime prevention strategies"
      ],
      "metadata": {
        "id": "zfJ8IqMcYoAp"
      }
    },
    {
      "cell_type": "markdown",
      "source": [
        "#### Chart - 4"
      ],
      "metadata": {
        "id": "4Of9eVA-YrdM"
      }
    },
    {
      "cell_type": "code",
      "source": [
        "# Chart - 4 visualization code\n",
        "\n",
        "# Select the top N most frequent incident types (e.g., top 3)\n",
        "top_n_types = type_counts.head(3)['TYPE'].tolist()\n",
        "\n",
        "# Filter the dataframe to include only the top N types\n",
        "df_top_types = df_analysis[df_analysis['TYPE'].isin(top_n_types)].copy()\n",
        "\n",
        "# Plot the trend for the top N incident types\n",
        "plt.figure(figsize=(14, 7))\n",
        "sns.lineplot(data=df_top_types, x='Date', y='Incident_Counts', hue='TYPE')\n",
        "plt.title(f'Monthly Incident Counts for Top {len(top_n_types)} FBI Incident Types')\n",
        "plt.xlabel('Date')\n",
        "plt.ylabel('Number of Incidents')\n",
        "plt.xticks(rotation=45)\n",
        "plt.legend(title='Incident Type', bbox_to_anchor=(1.05, 1), loc='upper left')\n",
        "plt.tight_layout()\n",
        "plt.show()"
      ],
      "metadata": {
        "id": "W0yWZgxqSRY6"
      },
      "execution_count": null,
      "outputs": []
    },
    {
      "cell_type": "markdown",
      "source": [
        "##### 1. Why did you pick the specific chart?"
      ],
      "metadata": {
        "id": "iky9q4vBYrdO"
      }
    },
    {
      "cell_type": "markdown",
      "source": [
        "I chose this multi-line plot specifically to examine and compare the monthly trends of the most frequent incident types. While the second chart showed all incident types, this chart focuses on the top ones identified in the bar plot. This allows for a clearer view of the temporal patterns for the crimes that contribute most to the overall incident volume and helps in identifying any specific seasonality or trends within these major categories."
      ],
      "metadata": {
        "id": "aJRCwT6DYrdO"
      }
    },
    {
      "cell_type": "markdown",
      "source": [
        "##### 2. What is/are the insight(s) found from the chart?"
      ],
      "metadata": {
        "id": "F6T5p64dYrdO"
      }
    },
    {
      "cell_type": "markdown",
      "source": [
        "Based on the line plot of the top incident types, the insight is that even among the most frequent types, the monthly trends are relatively stable and mirror the overall stable trend. There are no dramatic peaks or valleys for these individual top categories within the observed period. This reinforces the idea that the stability in the total incident count is reflected across the most common types of incidents as well."
      ],
      "metadata": {
        "id": "Xx8WAJvtYrdO"
      }
    },
    {
      "cell_type": "markdown",
      "source": [
        "##### 3. Will the gained insights help creating a positive business impact?\n",
        "Are there any insights that lead to negative growth? Justify with specific reason."
      ],
      "metadata": {
        "id": "y-Ehk30pYrdP"
      }
    },
    {
      "cell_type": "markdown",
      "source": [
        "while the stability offers predictability for resource management, it also underscores the challenge in reducing the most common types of crime and emphasizes the need for potentially new or more focused strategies if crime reduction is a key business objective."
      ],
      "metadata": {
        "id": "jLNxxz7MYrdP"
      }
    },
    {
      "cell_type": "markdown",
      "source": [
        "#### Chart - 5"
      ],
      "metadata": {
        "id": "bamQiAODYuh1"
      }
    },
    {
      "cell_type": "code",
      "source": [
        "# Chart - 5 visualization code\n",
        "\n",
        "# Group by month and sum the incident counts\n",
        "monthly_seasonal_counts = df_analysis.groupby('MONTH')['Incident_Counts'].sum().reset_index()\n",
        "\n",
        "# Plot the total incidents by month (seasonal view)\n",
        "plt.figure(figsize=(10, 6))\n",
        "sns.barplot(data=monthly_seasonal_counts, x='MONTH', y='Incident_Counts', palette='viridis')\n",
        "plt.title('Total FBI Incident Counts by Month (Seasonal View)')\n",
        "plt.xlabel('Month')\n",
        "plt.ylabel('Total Number of Incidents')\n",
        "plt.xticks(np.arange(1, 13), ['Jan', 'Feb', 'Mar', 'Apr', 'May', 'Jun', 'Jul', 'Aug', 'Sep', 'Oct', 'Nov', 'Dec'])\n",
        "plt.tight_layout()\n",
        "plt.show()"
      ],
      "metadata": {
        "id": "JmIg8qmmS-mt"
      },
      "execution_count": null,
      "outputs": []
    },
    {
      "cell_type": "markdown",
      "source": [
        "##### 1. Why did you pick the specific chart?"
      ],
      "metadata": {
        "id": "QHF8YVU7Yuh3"
      }
    },
    {
      "cell_type": "markdown",
      "source": [
        "I chose the bar plot to visualize the total incident counts by month (seasonal view) because it's an effective way to compare the aggregate number of incidents across the 12 distinct months of the year. This chart makes it easy to see if certain months consistently have higher or lower incident counts when summed across the entire period, helping to identify any potential seasonal patterns."
      ],
      "metadata": {
        "id": "dcxuIMRPYuh3"
      }
    },
    {
      "cell_type": "markdown",
      "source": [
        "##### 2. What is/are the insight(s) found from the chart?"
      ],
      "metadata": {
        "id": "GwzvFGzlYuh3"
      }
    },
    {
      "cell_type": "markdown",
      "source": [
        "Based on the bar plot showing the total FBI incident counts by month (seasonal view), the main insight is that there is no strong or consistent seasonal pattern in the total number of incidents across the months. The bars are all roughly the same height, indicating that when summed across the available years, each month contributes a similar number of incidents to the total. This reinforces the earlier observation of overall stability in incident volume."
      ],
      "metadata": {
        "id": "uyqkiB8YYuh3"
      }
    },
    {
      "cell_type": "markdown",
      "source": [
        "##### 3. Will the gained insights help creating a positive business impact?\n",
        "Are there any insights that lead to negative growth? Justify with specific reason."
      ],
      "metadata": {
        "id": "qYpmQ266Yuh3"
      }
    },
    {
      "cell_type": "markdown",
      "source": [
        "while the overall lack of seasonality simplifies high-level planning, it highlights the importance of examining individual incident types for seasonal patterns, as those could still require seasonal adjustments in strategy and resource allocation to achieve positive impacts (like reducing specific crime types during their peak seasons)."
      ],
      "metadata": {
        "id": "_WtzZ_hCYuh4"
      }
    },
    {
      "cell_type": "markdown",
      "source": [
        "#### Chart - 6"
      ],
      "metadata": {
        "id": "OH-pJp9IphqM"
      }
    },
    {
      "cell_type": "code",
      "source": [
        "# Chart - 6 visualization code\n",
        "\n",
        "# Group by month and type and sum the incident counts for the top types\n",
        "monthly_type_seasonal_counts = df_top_types.groupby(['MONTH', 'TYPE'])['Incident_Counts'].sum().reset_index()\n",
        "\n",
        "# Create a grouped bar plot for seasonal patterns of top types\n",
        "plt.figure(figsize=(14, 7))\n",
        "sns.barplot(data=monthly_type_seasonal_counts, x='MONTH', y='Incident_Counts', hue='TYPE', palette='viridis')\n",
        "plt.title(f'Seasonal Incident Counts by Type for Top {len(top_n_types)} FBI Incident Types')\n",
        "plt.xlabel('Month')\n",
        "plt.ylabel('Total Number of Incidents')\n",
        "plt.xticks(np.arange(0, 12), ['Jan', 'Feb', 'Mar', 'Apr', 'May', 'Jun', 'Jul', 'Aug', 'Sep', 'Oct', 'Nov', 'Dec'])\n",
        "plt.legend(title='Incident Type', bbox_to_anchor=(1.05, 1), loc='upper left')\n",
        "plt.tight_layout()\n",
        "plt.show()"
      ],
      "metadata": {
        "id": "wxwdUpiWTmo8"
      },
      "execution_count": null,
      "outputs": []
    },
    {
      "cell_type": "markdown",
      "source": [
        "##### 1. Why did you pick the specific chart?"
      ],
      "metadata": {
        "id": "bbFf2-_FphqN"
      }
    },
    {
      "cell_type": "markdown",
      "source": [
        "I chose the grouped bar plot to visualize the seasonal incident counts by type because it effectively allows us to compare the incident counts across two categorical variables at once: the month and the incident type. By grouping the bars by month and using different colors for each incident type, we can easily see if certain incident types have higher or lower counts during specific months, revealing potential seasonal patterns within those categories, even if the overall total incidents per month are stable."
      ],
      "metadata": {
        "id": "loh7H2nzphqN"
      }
    },
    {
      "cell_type": "markdown",
      "source": [
        "##### 2. What is/are the insight(s) found from the chart?"
      ],
      "metadata": {
        "id": "_ouA3fa0phqN"
      }
    },
    {
      "cell_type": "markdown",
      "source": [
        "Based on the grouped bar plot showing the seasonal incident counts by type for the top incident types, the key insight is that even within these most frequent categories, there are no pronounced or consistent seasonal peaks or dips across the months in the observed data. The counts for each of the top incident types remain relatively uniform throughout the year. This further supports the earlier observation that the overall stability in incident numbers is reflected even when examining the most common types on a monthly basis."
      ],
      "metadata": {
        "id": "VECbqPI7phqN"
      }
    },
    {
      "cell_type": "markdown",
      "source": [
        "##### 3. Will the gained insights help creating a positive business impact?\n",
        "Are there any insights that lead to negative growth? Justify with specific reason."
      ],
      "metadata": {
        "id": "Seke61FWphqN"
      }
    },
    {
      "cell_type": "markdown",
      "source": [
        "In essence, the lack of strong seasonality in the most frequent incident types simplifies seasonal resource planning for these specific crimes but also highlights that their consistent occurrence is a year-round challenge that requires consistent, potentially intensified, efforts if a reduction is the goal."
      ],
      "metadata": {
        "id": "DW4_bGpfphqN"
      }
    },
    {
      "cell_type": "markdown",
      "source": [
        "#### Chart - 7"
      ],
      "metadata": {
        "id": "PIIx-8_IphqN"
      }
    },
    {
      "cell_type": "code",
      "source": [
        "# Chart - 7 visualization code\n",
        "\n",
        "# Group by year and type and sum the incident counts\n",
        "yearly_type_counts = df_analysis.groupby(['YEAR', 'TYPE'])['Incident_Counts'].sum().reset_index()\n",
        "\n",
        "# Create a stacked bar chart of incident counts by year and type\n",
        "plt.figure(figsize=(12, 7))\n",
        "sns.histplot(data=yearly_type_counts, x='YEAR', weights='Incident_Counts', hue='TYPE', multiple='stack', palette='viridis', shrink=0.8)\n",
        "plt.title('Yearly FBI Incident Counts by Type')\n",
        "plt.xlabel('Year')\n",
        "plt.ylabel('Total Number of Incidents')\n",
        "plt.xticks(yearly_type_counts['YEAR'].unique())\n",
        "plt.legend(title='Incident Type', bbox_to_anchor=(1.05, 1), loc='upper left')\n",
        "plt.tight_layout()\n",
        "plt.show()"
      ],
      "metadata": {
        "id": "foqjVLO7UZnX"
      },
      "execution_count": null,
      "outputs": []
    },
    {
      "cell_type": "markdown",
      "source": [
        "##### 1. Why did you pick the specific chart?"
      ],
      "metadata": {
        "id": "t27r6nlMphqO"
      }
    },
    {
      "cell_type": "markdown",
      "source": [
        "I chose the stacked bar chart to visualize the yearly FBI incident counts by type because it is effective in showing the total number of incidents for each year while simultaneously illustrating the contribution of each incident type to that yearly total. This allows for easy comparison of the overall incident volume between years and helps in identifying if the proportion of different incident types changes from one year to the next."
      ],
      "metadata": {
        "id": "iv6ro40sphqO"
      }
    },
    {
      "cell_type": "markdown",
      "source": [
        "##### 2. What is/are the insight(s) found from the chart?"
      ],
      "metadata": {
        "id": "r2jJGEOYphqO"
      }
    },
    {
      "cell_type": "markdown",
      "source": [
        "Based on the stacked bar chart showing yearly FBI incident counts by type, the main insight is that 2012 had a higher total number of reported incidents compared to 2013 within this dataset. Additionally, the proportion of each incident type appears relatively similar between the two years, suggesting that while the overall volume differed, the mix of incident types remained consistent year-over-year."
      ],
      "metadata": {
        "id": "Po6ZPi4hphqO"
      }
    },
    {
      "cell_type": "markdown",
      "source": [
        "##### 3. Will the gained insights help creating a positive business impact?\n",
        "Are there any insights that lead to negative growth? Justify with specific reason."
      ],
      "metadata": {
        "id": "b0JNsNcRphqO"
      }
    },
    {
      "cell_type": "markdown",
      "source": [
        "The yearly comparison provides a high-level view of changes in incident volume and composition, which can inform strategic adjustments and help evaluate the potential impact of past efforts, aiming for sustained positive impact (reduction in incidents).\n",
        "\n"
      ],
      "metadata": {
        "id": "xvSq8iUTphqO"
      }
    },
    {
      "cell_type": "markdown",
      "source": [
        "#### Chart - 8"
      ],
      "metadata": {
        "id": "BZR9WyysphqO"
      }
    },
    {
      "cell_type": "code",
      "source": [
        "# Chart - 8 visualization code\n",
        "\n",
        "# Plot the trend for each incident type, separated by year\n",
        "plt.figure(figsize=(14, 7))\n",
        "sns.lineplot(data=df_analysis, x='MONTH', y='Incident_Counts', hue='TYPE', style='YEAR', palette='viridis')\n",
        "plt.title('Monthly FBI Incident Counts by Type and Year')\n",
        "plt.xlabel('Month')\n",
        "plt.ylabel('Number of Incidents')\n",
        "plt.xticks(np.arange(1, 13), ['Jan', 'Feb', 'Mar', 'Apr', 'May', 'Jun', 'Jul', 'Aug', 'Sep', 'Oct', 'Nov', 'Dec'])\n",
        "plt.legend(title='Incident Type and Year', bbox_to_anchor=(1.05, 1), loc='upper left')\n",
        "plt.tight_layout()\n",
        "plt.show()"
      ],
      "metadata": {
        "id": "pJnhqVdiVLaD"
      },
      "execution_count": null,
      "outputs": []
    },
    {
      "cell_type": "markdown",
      "source": [
        "##### 1. Why did you pick the specific chart?"
      ],
      "metadata": {
        "id": "jj7wYXLtphqO"
      }
    },
    {
      "cell_type": "markdown",
      "source": [
        "I chose this multi-line plot to visualize the monthly incident counts by type and year because it allows for a direct comparison of the monthly trends for each incident type between 2012 and 2013. By having separate lines for each year, we can easily see if the monthly patterns for a specific incident type are consistent or if they differ between the two years. This helps in understanding if any observed monthly variations are consistent seasonal patterns or if they are specific to a particular year."
      ],
      "metadata": {
        "id": "Ob8u6rCTphqO"
      }
    },
    {
      "cell_type": "markdown",
      "source": [
        "##### 2. What is/are the insight(s) found from the chart?"
      ],
      "metadata": {
        "id": "eZrbJ2SmphqO"
      }
    },
    {
      "cell_type": "markdown",
      "source": [
        "Based on the multi-line plot showing monthly FBI incident counts by type and year, the main insight is that for most incident types, the monthly patterns are relatively consistent between 2012 and 2013, although the overall counts for each type are generally lower in 2013. This reinforces the idea that while the total volume of incidents decreased from 2012 to 2013, the underlying monthly behavior of individual incident types remained largely similar. There are no dramatic shifts in monthly trends for specific types between the two years."
      ],
      "metadata": {
        "id": "mZtgC_hjphqO"
      }
    },
    {
      "cell_type": "markdown",
      "source": [
        "##### 3. Will the gained insights help creating a positive business impact?\n",
        "Are there any insights that lead to negative growth? Justify with specific reason."
      ],
      "metadata": {
        "id": "rFu4xreNphqO"
      }
    },
    {
      "cell_type": "markdown",
      "source": [
        "The consistency of monthly patterns within incident types allows for stable and potentially more refined tactical planning for specific crimes, while the overall reduction in 2013 is a promising trend that warrants further investigation to understand its drivers and ensure continued positive impact.\n",
        "\n"
      ],
      "metadata": {
        "id": "ey_0qi68phqO"
      }
    },
    {
      "cell_type": "markdown",
      "source": [
        "#### Chart - 9"
      ],
      "metadata": {
        "id": "YJ55k-q6phqO"
      }
    },
    {
      "cell_type": "code",
      "source": [
        "# Chart - 9 visualization code\n",
        "\n",
        "# Group by year and sum the incident counts\n",
        "yearly_counts = df_analysis.groupby('YEAR')['Incident_Counts'].sum().reset_index()\n",
        "\n",
        "# Plot the total incidents by year\n",
        "plt.figure(figsize=(8, 5))\n",
        "sns.barplot(data=yearly_counts, x='YEAR', y='Incident_Counts', palette='viridis')\n",
        "plt.title('Total FBI Incident Counts by Year')\n",
        "plt.xlabel('Year')\n",
        "plt.ylabel('Total Number of Incidents')\n",
        "plt.xticks(yearly_counts['YEAR'])\n",
        "plt.tight_layout()\n",
        "plt.show()"
      ],
      "metadata": {
        "id": "yGcKjzJbVy9f"
      },
      "execution_count": null,
      "outputs": []
    },
    {
      "cell_type": "markdown",
      "source": [
        "##### 1. Why did you pick the specific chart?"
      ],
      "metadata": {
        "id": "gCFgpxoyphqP"
      }
    },
    {
      "cell_type": "markdown",
      "source": [
        "I chose the bar plot to visualize the total FBI incident counts by year because it's a straightforward and effective way to visually compare the total incident volume between the two distinct years (2012 and 2013). The height of each bar directly represents the total number of incidents in that year, making the difference in volume between the years immediately clear."
      ],
      "metadata": {
        "id": "TVxDimi2phqP"
      }
    },
    {
      "cell_type": "markdown",
      "source": [
        "##### 2. What is/are the insight(s) found from the chart?"
      ],
      "metadata": {
        "id": "OVtJsKN_phqQ"
      }
    },
    {
      "cell_type": "markdown",
      "source": [
        "Based on the bar plot showing the total FBI incident counts by year, the clear insight is that the total number of reported incidents was significantly higher in 2012 compared to 2013. This confirms the observation made from the stacked bar chart and provides a simple, direct comparison of the overall incident volume between the two years."
      ],
      "metadata": {
        "id": "ngGi97qjphqQ"
      }
    },
    {
      "cell_type": "markdown",
      "source": [
        "##### 3. Will the gained insights help creating a positive business impact?\n",
        "Are there any insights that lead to negative growth? Justify with specific reason."
      ],
      "metadata": {
        "id": "lssrdh5qphqQ"
      }
    },
    {
      "cell_type": "markdown",
      "source": [
        "The observed reduction in total incidents in 2013 is a positive indicator of \"negative growth\" in crime volume, which has significant positive business implications for evaluating strategies and justifying resources. However, it's crucial to delve deeper to understand the underlying causes of this reduction to ensure sustainable positive impact."
      ],
      "metadata": {
        "id": "tBpY5ekJphqQ"
      }
    },
    {
      "cell_type": "markdown",
      "source": [
        "#### Chart - 10"
      ],
      "metadata": {
        "id": "U2RJ9gkRphqQ"
      }
    },
    {
      "cell_type": "code",
      "source": [
        "# Chart - 10 visualization code\n",
        "\n",
        "# Calculate the total incidents per year\n",
        "yearly_totals = df_analysis.groupby('YEAR')['Incident_Counts'].sum()\n",
        "\n",
        "# Calculate the proportion of each incident type within each year\n",
        "yearly_type_proportion = yearly_type_counts.copy()\n",
        "yearly_type_proportion['Proportion'] = yearly_type_proportion.apply(lambda row: row['Incident_Counts'] / yearly_totals[row['YEAR']], axis=1)\n",
        "\n",
        "# Create a proportional stacked bar chart\n",
        "plt.figure(figsize=(10, 7))\n",
        "sns.histplot(data=yearly_type_proportion, x='YEAR', weights='Proportion', hue='TYPE', multiple='stack', palette='viridis', shrink=0.8)\n",
        "plt.title('Proportion of FBI Incident Types by Year')\n",
        "plt.xlabel('Year')\n",
        "plt.ylabel('Proportion of Incidents')\n",
        "plt.xticks(yearly_type_proportion['YEAR'].unique())\n",
        "plt.legend(title='Incident Type', bbox_to_anchor=(1.05, 1), loc='upper left')\n",
        "plt.tight_layout()\n",
        "plt.show()"
      ],
      "metadata": {
        "id": "C9q3nXnNWcen"
      },
      "execution_count": null,
      "outputs": []
    },
    {
      "cell_type": "markdown",
      "source": [
        "##### 1. Why did you pick the specific chart?"
      ],
      "metadata": {
        "id": "1M8mcRywphqQ"
      }
    },
    {
      "cell_type": "markdown",
      "source": [
        "I chose the proportional stacked bar chart to visualize the proportion of FBI incident types by year because it is the best way to clearly show how the composition of incidents changes (or doesn't change) from year to year. Unlike a regular stacked bar chart which shows raw counts, this chart normalizes the counts within each year to 100%, allowing for a direct comparison of the percentage that each incident type contributes to the total in 2012 versus 2013"
      ],
      "metadata": {
        "id": "8agQvks0phqQ"
      }
    },
    {
      "cell_type": "markdown",
      "source": [
        "##### 2. What is/are the insight(s) found from the chart?"
      ],
      "metadata": {
        "id": "tgIPom80phqQ"
      }
    },
    {
      "cell_type": "markdown",
      "source": [
        "Based on the proportional stacked bar chart showing the proportion of FBI incident types by year, the clear insight is that the proportion of each incident type remained remarkably consistent between 2012 and 2013. This means that even though the overall number of incidents was lower in 2013, the relative frequency of each type of crime within that total stayed largely the same. This reinforces the earlier observation from the stacked bar chart that the mix of incidents didn't change significantly, only the total volume."
      ],
      "metadata": {
        "id": "Qp13pnNzphqQ"
      }
    },
    {
      "cell_type": "markdown",
      "source": [
        "##### 3. Will the gained insights help creating a positive business impact?\n",
        "Are there any insights that lead to negative growth? Justify with specific reason."
      ],
      "metadata": {
        "id": "JMzcOPDDphqR"
      }
    },
    {
      "cell_type": "markdown",
      "source": [
        "The consistent proportion of incident types provides stability for strategic planning across different crime categories, which is a positive. However, it also highlights that without targeted interventions to specifically alter the mix of crimes, the relative prominence of certain types will likely persist, which could be a negative if a shift in the crime landscape is desired."
      ],
      "metadata": {
        "id": "R4Ka1PC2phqR"
      }
    },
    {
      "cell_type": "markdown",
      "source": [
        "#### Chart - 11"
      ],
      "metadata": {
        "id": "x-EpHcCOp1ci"
      }
    },
    {
      "cell_type": "code",
      "source": [
        "# Chart - 11 visualization code\n",
        "\n",
        "# Group by year and type and sum the incident counts (already have yearly_type_counts from Chart 7)\n",
        "\n",
        "# Create a grouped bar chart of incident counts by year and type\n",
        "plt.figure(figsize=(14, 7))\n",
        "sns.barplot(data=yearly_type_counts, x='TYPE', y='Incident_Counts', hue='YEAR', palette='viridis')\n",
        "plt.title('Yearly FBI Incident Counts by Type')\n",
        "plt.xlabel('Incident Type')\n",
        "plt.ylabel('Total Number of Incidents')\n",
        "plt.xticks(rotation=45, ha='right')\n",
        "plt.legend(title='Year')\n",
        "plt.tight_layout()\n",
        "plt.show()"
      ],
      "metadata": {
        "id": "v023rbxDXX5Q"
      },
      "execution_count": null,
      "outputs": []
    },
    {
      "cell_type": "markdown",
      "source": [
        "##### 1. Why did you pick the specific chart?"
      ],
      "metadata": {
        "id": "X_VqEhTip1ck"
      }
    },
    {
      "cell_type": "markdown",
      "source": [
        "I chose the grouped bar chart to visualize the yearly incident counts by type because it is an effective way to directly compare the total count of each specific incident type between 2012 and 2013. By having bars for each year grouped together for every incident type, we can easily see which incident types saw an increase, decrease, or remained stable in terms of raw counts from one year to the next."
      ],
      "metadata": {
        "id": "-vsMzt_np1ck"
      }
    },
    {
      "cell_type": "markdown",
      "source": [
        "##### 2. What is/are the insight(s) found from the chart?"
      ],
      "metadata": {
        "id": "8zGJKyg5p1ck"
      }
    },
    {
      "cell_type": "markdown",
      "source": [
        "Based on the grouped bar chart showing yearly FBI incident counts by type, the main insight is that the decrease in total incidents from 2012 to 2013 appears to be a broad trend affecting all incident types rather than being driven by a significant reduction in just one or two specific categories. For almost every incident type, the bar for 2013 is lower than the bar for 2012, indicating a general reduction across the board."
      ],
      "metadata": {
        "id": "ZYdMsrqVp1ck"
      }
    },
    {
      "cell_type": "markdown",
      "source": [
        "##### 3. Will the gained insights help creating a positive business impact?\n",
        "Are there any insights that lead to negative growth? Justify with specific reason."
      ],
      "metadata": {
        "id": "PVzmfK_Ep1ck"
      }
    },
    {
      "cell_type": "markdown",
      "source": [
        "The broad reduction in incident types in 2013 is a very positive sign (\"negative growth\" in crime) with strong implications for the potential effectiveness of general crime reduction approaches. Understanding the reasons behind this widespread decrease is key to sustaining and enhancing this positive trend in the future."
      ],
      "metadata": {
        "id": "druuKYZpp1ck"
      }
    },
    {
      "cell_type": "markdown",
      "source": [
        "#### Chart - 12"
      ],
      "metadata": {
        "id": "n3dbpmDWp1ck"
      }
    },
    {
      "cell_type": "code",
      "source": [
        "# Chart - 12 visualization code\n",
        "\n",
        "# Pivot the yearly_type_counts to have years as columns\n",
        "yearly_type_pivot = yearly_type_counts.pivot(index='TYPE', columns='YEAR', values='Incident_Counts').reset_index()\n",
        "\n",
        "# Calculate the change in incident counts from 2012 to 2013\n",
        "yearly_type_pivot['Change_2012_to_2013'] = yearly_type_pivot[2013] - yearly_type_pivot[2012]\n",
        "\n",
        "# Sort by the magnitude of change\n",
        "yearly_type_pivot = yearly_type_pivot.sort_values('Change_2012_to_2013', ascending=True)\n",
        "\n",
        "# Create a bar chart of the change in incident counts by type\n",
        "plt.figure(figsize=(12, 7))\n",
        "sns.barplot(data=yearly_type_pivot, x='Change_2012_to_2013', y='TYPE', palette='coolwarm')\n",
        "plt.title('Change in FBI Incident Counts by Type (2012 to 2013)')\n",
        "plt.xlabel('Change in Number of Incidents')\n",
        "plt.ylabel('Incident Type')\n",
        "plt.tight_layout()\n",
        "plt.show()"
      ],
      "metadata": {
        "id": "zizN7qTNYTTW"
      },
      "execution_count": null,
      "outputs": []
    },
    {
      "cell_type": "markdown",
      "source": [
        "##### 1. Why did you pick the specific chart?"
      ],
      "metadata": {
        "id": "ylSl6qgtp1ck"
      }
    },
    {
      "cell_type": "markdown",
      "source": [
        "I chose the bar chart showing the change in FBI incident counts by type from 2012 to 2013 because it provides a clear and direct visualization of the magnitude and direction of change for each specific incident type. By plotting the difference in counts, we can easily see which incident types experienced the largest absolute increases or decreases, allowing for a focused analysis on the categories that contributed most to the overall yearly change."
      ],
      "metadata": {
        "id": "m2xqNkiQp1ck"
      }
    },
    {
      "cell_type": "markdown",
      "source": [
        "##### 2. What is/are the insight(s) found from the chart?"
      ],
      "metadata": {
        "id": "ZWILFDl5p1ck"
      }
    },
    {
      "cell_type": "markdown",
      "source": [
        "Based on the bar chart showing the change in FBI incident counts by type from 2012 to 2013, the main insight is that all incident types saw a decrease in the number of reported incidents from 2012 to 2013. While the magnitude of the decrease varies slightly between types, the trend is consistent across the board. This reinforces the earlier observation that the overall reduction in incidents was a broad phenomenon, not limited to just a few categories."
      ],
      "metadata": {
        "id": "x-lUsV2mp1ck"
      }
    },
    {
      "cell_type": "markdown",
      "source": [
        "##### 3. Will the gained insights help creating a positive business impact?\n",
        "Are there any insights that lead to negative growth? Justify with specific reason."
      ],
      "metadata": {
        "id": "M7G43BXep1ck"
      }
    },
    {
      "cell_type": "markdown",
      "source": [
        "The observation that all incident types decreased in 2013 compared to 2012 is a very strong positive business insight, indicating a broad \"negative growth\" in crime. This supports the potential effectiveness of general crime reduction efforts, but understanding the specific causes of this widespread decrease is essential for sustained positive impact."
      ],
      "metadata": {
        "id": "5wwDJXsLp1cl"
      }
    },
    {
      "cell_type": "markdown",
      "source": [
        "#### Chart - 13"
      ],
      "metadata": {
        "id": "Ag9LCva-p1cl"
      }
    },
    {
      "cell_type": "code",
      "source": [
        "# Chart - 13 visualization code\n",
        "\n",
        "# Pivot the dataframe to have months as index, years as columns and incident counts as values\n",
        "monthly_yearly_pivot = df_analysis.pivot_table(index='MONTH', columns='YEAR', values='Incident_Counts', aggfunc='sum')\n",
        "\n",
        "# Create a heatmap of monthly incident counts by year\n",
        "plt.figure(figsize=(10, 7))\n",
        "sns.heatmap(monthly_yearly_pivot, annot=True, fmt='g', cmap='viridis', linewidths=.5)\n",
        "plt.title('FBI Incident Counts by Month and Year')\n",
        "plt.xlabel('Year')\n",
        "plt.ylabel('Month')\n",
        "plt.yticks(ticks=np.arange(0.5, 12.5), labels=['Jan', 'Feb', 'Mar', 'Apr', 'May', 'Jun', 'Jul', 'Aug', 'Sep', 'Oct', 'Nov', 'Dec'])\n",
        "plt.tight_layout()\n",
        "plt.show()"
      ],
      "metadata": {
        "id": "2AoQWh0wZE7h"
      },
      "execution_count": null,
      "outputs": []
    },
    {
      "cell_type": "markdown",
      "source": [
        "##### 1. Why did you pick the specific chart?"
      ],
      "metadata": {
        "id": "E6MkPsBcp1cl"
      }
    },
    {
      "cell_type": "markdown",
      "source": [
        "I chose the heatmap to visualize the FBI incident counts by month and year because it provides a compact and color-coded representation of the incident volume across all month-year combinations in the dataset. The intensity of the color in each cell immediately shows the relative number of incidents for that specific month and year, making it easy to spot any month-year combinations that stand out or to see if there are any visual patterns in the distribution across the grid."
      ],
      "metadata": {
        "id": "V22bRsFWp1cl"
      }
    },
    {
      "cell_type": "markdown",
      "source": [
        "##### 2. What is/are the insight(s) found from the chart?"
      ],
      "metadata": {
        "id": "2cELzS2fp1cl"
      }
    },
    {
      "cell_type": "markdown",
      "source": [
        "The heatmap effectively provides a consolidated view that supports the conclusions drawn from the separate yearly and monthly total plots."
      ],
      "metadata": {
        "id": "ozQPc2_Ip1cl"
      }
    },
    {
      "cell_type": "markdown",
      "source": [
        "##### 3. Will the gained insights help creating a positive business impact?\n",
        "Are there any insights that lead to negative growth? Justify with specific reason."
      ],
      "metadata": {
        "id": "3MPXvC8up1cl"
      }
    },
    {
      "cell_type": "markdown",
      "source": [
        "the heatmap serves as a valuable visual confirmation of key trends observed in earlier charts – a lower overall incident volume in 2013 and a lack of strong total monthly seasonality. This reinforces the positive business implications related to evaluating broad crime reduction efforts and stable high-level resource planning, while still highlighting the need to understand the drivers of the 2013 reduction and potentially look at seasonality within specific crime types."
      ],
      "metadata": {
        "id": "GL8l1tdLp1cl"
      }
    },
    {
      "cell_type": "markdown",
      "source": [
        "#### Chart - 14 - Correlation Heatmap"
      ],
      "metadata": {
        "id": "NC_X3p0fY2L0"
      }
    },
    {
      "cell_type": "code",
      "source": [
        "# Correlation Heatmap visualization code\n",
        "\n",
        "# Select only the numerical columns for correlation analysis\n",
        "numerical_df = df_analysis[['YEAR', 'MONTH', 'Incident_Counts']]\n",
        "\n",
        "# Calculate the correlation matrix\n",
        "correlation_matrix = numerical_df.corr()\n",
        "\n",
        "# Create a heatmap of the correlation matrix\n",
        "plt.figure(figsize=(8, 6))\n",
        "sns.heatmap(correlation_matrix, annot=True, cmap='coolwarm', fmt=\".2f\", linewidths=.5)\n",
        "plt.title('Correlation Heatmap of Numerical Variables')\n",
        "plt.show()"
      ],
      "metadata": {
        "id": "iJOhB7YXZySB"
      },
      "execution_count": null,
      "outputs": []
    },
    {
      "cell_type": "markdown",
      "source": [
        "##### 1. Why did you pick the specific chart?"
      ],
      "metadata": {
        "id": "UV0SzAkaZNRQ"
      }
    },
    {
      "cell_type": "markdown",
      "source": [
        "I chose the correlation heatmap to visualize the relationships between the numerical variables ('YEAR', 'MONTH', and 'Incident_Counts') because it provides a quick and clear overview of how strongly each pair of variables is linearly related. The color intensity and the annotation in each cell show the correlation coefficient, making it easy to identify positive or negative correlations and their strength. This helps in understanding potential linear dependencies between these numerical features."
      ],
      "metadata": {
        "id": "DVPuT8LYZNRQ"
      }
    },
    {
      "cell_type": "markdown",
      "source": [
        "##### 2. What is/are the insight(s) found from the chart?"
      ],
      "metadata": {
        "id": "YPEH6qLeZNRQ"
      }
    },
    {
      "cell_type": "markdown",
      "source": [
        " The heatmap confirms the lack of strong linear relationships between incident counts and the temporal variables, while also highlighting a structural artifact in the data's time representation."
      ],
      "metadata": {
        "id": "bfSqtnDqZNRR"
      }
    },
    {
      "cell_type": "markdown",
      "source": [
        "#### Chart - 15 - Pair Plot"
      ],
      "metadata": {
        "id": "q29F0dvdveiT"
      }
    },
    {
      "cell_type": "code",
      "source": [
        "# Pair Plot visualization code\n",
        "\n",
        "# Create a pair plot of the numerical variables\n",
        "sns.pairplot(numerical_df)\n",
        "plt.suptitle('Pair Plot of Numerical Variables', y=1.02)\n",
        "plt.show()"
      ],
      "metadata": {
        "id": "HB0aXP_UaPoK"
      },
      "execution_count": null,
      "outputs": []
    },
    {
      "cell_type": "markdown",
      "source": [
        "##### 1. Why did you pick the specific chart?"
      ],
      "metadata": {
        "id": "EXh0U9oCveiU"
      }
    },
    {
      "cell_type": "markdown",
      "source": [
        "I chose the pair plot to visualize the relationships between the numerical variables because it provides a matrix of scatter plots for every pair of numerical variables and histograms for the distribution of each individual variable along the diagonal. This allows for a quick visual assessment of potential relationships, correlations (linear or non-linear), and the distribution of each numerical feature in one comprehensive view."
      ],
      "metadata": {
        "id": "eMmPjTByveiU"
      }
    },
    {
      "cell_type": "markdown",
      "source": [
        "##### 2. What is/are the insight(s) found from the chart?"
      ],
      "metadata": {
        "id": "22aHeOlLveiV"
      }
    },
    {
      "cell_type": "markdown",
      "source": [
        "The pair plot provides a visual confirmation of the distributions and relationships between the numerical variables, reinforcing the insights about the lower incident counts in 2013 and the lack of strong linear relationships or overall monthly seasonality."
      ],
      "metadata": {
        "id": "uPQ8RGwHveiV"
      }
    },
    {
      "cell_type": "markdown",
      "source": [
        "## **5. Solution to Business Objective**"
      ],
      "metadata": {
        "id": "JcMwzZxoAimU"
      }
    },
    {
      "cell_type": "markdown",
      "source": [
        "#### What do you suggest the client to achieve Business Objective ?\n",
        "Explain Briefly."
      ],
      "metadata": {
        "id": "8G2x9gOozGDZ"
      }
    },
    {
      "cell_type": "markdown",
      "source": [
        "The analysis provides a solid foundation for understanding the temporal and categorical patterns of FBI incidents in this dataset. The key is to leverage the insight of the broad reduction in 2013 to inform future strategies while using the knowledge of stable trends and proportions to optimize current resource allocation and develop targeted interventions for persistent crime types.\n"
      ],
      "metadata": {
        "id": "pASKb0qOza21"
      }
    },
    {
      "cell_type": "markdown",
      "source": [
        "# **Conclusion**"
      ],
      "metadata": {
        "id": "gCX9965dhzqZ"
      }
    },
    {
      "cell_type": "markdown",
      "source": [
        "The data reveals a positive trend of decreasing incident volume in 2013, spread across all crime types, within a context of overall monthly stability and consistent incident type proportions. Future efforts should focus on understanding the drivers of the 2013 reduction and maintaining targeted strategies for the most frequent crime types to sustain and enhance this positive trajectory.\n",
        "\n"
      ],
      "metadata": {
        "id": "Fjb1IsQkh3yE"
      }
    }
  ]
}